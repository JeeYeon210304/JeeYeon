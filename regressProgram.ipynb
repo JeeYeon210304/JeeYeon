{
  "nbformat": 4,
  "nbformat_minor": 0,
  "metadata": {
    "colab": {
      "provenance": [],
      "authorship_tag": "ABX9TyMISz5Q7LDa1IS059Py2JO6",
      "include_colab_link": true
    },
    "kernelspec": {
      "name": "python3",
      "display_name": "Python 3"
    },
    "language_info": {
      "name": "python"
    }
  },
  "cells": [
    {
      "cell_type": "markdown",
      "metadata": {
        "id": "view-in-github",
        "colab_type": "text"
      },
      "source": [
        "<a href=\"https://colab.research.google.com/github/yeun210304/Yeun210304/blob/main/regressProgram.ipynb\" target=\"_parent\"><img src=\"https://colab.research.google.com/assets/colab-badge.svg\" alt=\"Open In Colab\"/></a>"
      ]
    },
    {
      "cell_type": "code",
      "source": [
        "from scipy import stats\n",
        "\n",
        "x = [2, 3, 4, 5, 9, 10]\n",
        "y = [30, 50, 60, 65, 80, 90]\n",
        "\n",
        "slope, intercept, r, p , std_err = stats.linregress(x, y)\n",
        "\n",
        "def score_predict(a):\n",
        "  return slope * a + intercept\n",
        "\n",
        "learning_time = int(input('예측하고 싶은 공부시간을 입력하세요:'))\n",
        "\n",
        "score = score_predict(learning_time)\n",
        "\n",
        "print(score)"
      ],
      "metadata": {
        "id": "j325reiFA67v",
        "colab": {
          "base_uri": "https://localhost:8080/"
        },
        "outputId": "5dbe3724-4b34-45ac-a120-86950368d51c"
      },
      "execution_count": 7,
      "outputs": [
        {
          "output_type": "stream",
          "name": "stdout",
          "text": [
            "예측하고 싶은 공부시간을 입력하세요:8\n",
            "78.03738317757009\n"
          ]
        }
      ]
    },
    {
      "cell_type": "code",
      "source": [],
      "metadata": {
        "id": "w6tUWKQ0sooL"
      },
      "execution_count": null,
      "outputs": []
    }
  ]
}